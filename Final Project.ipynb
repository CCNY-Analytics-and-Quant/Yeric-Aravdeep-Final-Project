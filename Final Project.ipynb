{
 "cells": [
  {
   "cell_type": "code",
   "execution_count": 49,
   "id": "9ad93221-5981-4128-b19e-7b087a7ef2e4",
   "metadata": {},
   "outputs": [],
   "source": [
    "import pandas as pd\n",
    "import datetime as dt\n",
    "import yfinance as yf\n",
    "import numpy as np\n",
    "import matplotlib.pyplot as plt\n",
    "import seaborn as sns\n",
    "import scipy.stats\n",
    "pd.options\n",
    "import random"
   ]
  },
  {
   "cell_type": "code",
   "execution_count": 145,
   "id": "abafe78a-8cf0-4a89-9387-bd543fe19bc6",
   "metadata": {},
   "outputs": [
    {
     "name": "stdout",
     "output_type": "stream",
     "text": [
      "[*********************100%***********************]  1 of 1 completed\n"
     ]
    }
   ],
   "source": [
    "spy = yf.download(['VOO'], period = '5y')"
   ]
  },
  {
   "cell_type": "code",
   "execution_count": 146,
   "id": "d97ee442-7a1a-4d5f-8bc9-d70192d59236",
   "metadata": {},
   "outputs": [
    {
     "data": {
      "text/html": [
       "<div>\n",
       "<style scoped>\n",
       "    .dataframe tbody tr th:only-of-type {\n",
       "        vertical-align: middle;\n",
       "    }\n",
       "\n",
       "    .dataframe tbody tr th {\n",
       "        vertical-align: top;\n",
       "    }\n",
       "\n",
       "    .dataframe thead th {\n",
       "        text-align: right;\n",
       "    }\n",
       "</style>\n",
       "<table border=\"1\" class=\"dataframe\">\n",
       "  <thead>\n",
       "    <tr style=\"text-align: right;\">\n",
       "      <th></th>\n",
       "      <th>Open</th>\n",
       "      <th>High</th>\n",
       "      <th>Low</th>\n",
       "      <th>Close</th>\n",
       "      <th>Adj Close</th>\n",
       "      <th>Volume</th>\n",
       "    </tr>\n",
       "    <tr>\n",
       "      <th>Date</th>\n",
       "      <th></th>\n",
       "      <th></th>\n",
       "      <th></th>\n",
       "      <th></th>\n",
       "      <th></th>\n",
       "      <th></th>\n",
       "    </tr>\n",
       "  </thead>\n",
       "  <tbody>\n",
       "    <tr>\n",
       "      <th>2018-12-24</th>\n",
       "      <td>NaN</td>\n",
       "      <td>NaN</td>\n",
       "      <td>NaN</td>\n",
       "      <td>NaN</td>\n",
       "      <td>NaN</td>\n",
       "      <td>NaN</td>\n",
       "    </tr>\n",
       "    <tr>\n",
       "      <th>2018-12-26</th>\n",
       "      <td>-0.013015</td>\n",
       "      <td>0.024004</td>\n",
       "      <td>-0.001116</td>\n",
       "      <td>0.050588</td>\n",
       "      <td>0.050588</td>\n",
       "      <td>0.365515</td>\n",
       "    </tr>\n",
       "    <tr>\n",
       "      <th>2018-12-27</th>\n",
       "      <td>0.028034</td>\n",
       "      <td>0.008934</td>\n",
       "      <td>0.022204</td>\n",
       "      <td>0.009294</td>\n",
       "      <td>0.009294</td>\n",
       "      <td>-0.174133</td>\n",
       "    </tr>\n",
       "    <tr>\n",
       "      <th>2018-12-28</th>\n",
       "      <td>0.028525</td>\n",
       "      <td>0.012932</td>\n",
       "      <td>0.031512</td>\n",
       "      <td>-0.001272</td>\n",
       "      <td>-0.001272</td>\n",
       "      <td>-0.223659</td>\n",
       "    </tr>\n",
       "    <tr>\n",
       "      <th>2018-12-31</th>\n",
       "      <td>-0.000044</td>\n",
       "      <td>-0.004760</td>\n",
       "      <td>0.004106</td>\n",
       "      <td>0.009001</td>\n",
       "      <td>0.009001</td>\n",
       "      <td>-0.101155</td>\n",
       "    </tr>\n",
       "    <tr>\n",
       "      <th>...</th>\n",
       "      <td>...</td>\n",
       "      <td>...</td>\n",
       "      <td>...</td>\n",
       "      <td>...</td>\n",
       "      <td>...</td>\n",
       "      <td>...</td>\n",
       "    </tr>\n",
       "    <tr>\n",
       "      <th>2023-12-18</th>\n",
       "      <td>0.003347</td>\n",
       "      <td>0.004951</td>\n",
       "      <td>0.005113</td>\n",
       "      <td>0.005657</td>\n",
       "      <td>0.005657</td>\n",
       "      <td>-0.189591</td>\n",
       "    </tr>\n",
       "    <tr>\n",
       "      <th>2023-12-19</th>\n",
       "      <td>0.003221</td>\n",
       "      <td>0.004171</td>\n",
       "      <td>0.003453</td>\n",
       "      <td>0.006084</td>\n",
       "      <td>0.006084</td>\n",
       "      <td>-0.051162</td>\n",
       "    </tr>\n",
       "    <tr>\n",
       "      <th>2023-12-20</th>\n",
       "      <td>-0.001215</td>\n",
       "      <td>-0.002077</td>\n",
       "      <td>-0.013878</td>\n",
       "      <td>-0.018485</td>\n",
       "      <td>-0.014434</td>\n",
       "      <td>0.423907</td>\n",
       "    </tr>\n",
       "    <tr>\n",
       "      <th>2023-12-21</th>\n",
       "      <td>-0.005465</td>\n",
       "      <td>-0.006105</td>\n",
       "      <td>0.002233</td>\n",
       "      <td>0.009742</td>\n",
       "      <td>0.009742</td>\n",
       "      <td>-0.200858</td>\n",
       "    </tr>\n",
       "    <tr>\n",
       "      <th>2023-12-22</th>\n",
       "      <td>0.005379</td>\n",
       "      <td>0.005057</td>\n",
       "      <td>0.006081</td>\n",
       "      <td>0.002109</td>\n",
       "      <td>0.002109</td>\n",
       "      <td>-0.331265</td>\n",
       "    </tr>\n",
       "  </tbody>\n",
       "</table>\n",
       "<p>1259 rows × 6 columns</p>\n",
       "</div>"
      ],
      "text/plain": [
       "                Open      High       Low     Close  Adj Close    Volume\n",
       "Date                                                                   \n",
       "2018-12-24       NaN       NaN       NaN       NaN        NaN       NaN\n",
       "2018-12-26 -0.013015  0.024004 -0.001116  0.050588   0.050588  0.365515\n",
       "2018-12-27  0.028034  0.008934  0.022204  0.009294   0.009294 -0.174133\n",
       "2018-12-28  0.028525  0.012932  0.031512 -0.001272  -0.001272 -0.223659\n",
       "2018-12-31 -0.000044 -0.004760  0.004106  0.009001   0.009001 -0.101155\n",
       "...              ...       ...       ...       ...        ...       ...\n",
       "2023-12-18  0.003347  0.004951  0.005113  0.005657   0.005657 -0.189591\n",
       "2023-12-19  0.003221  0.004171  0.003453  0.006084   0.006084 -0.051162\n",
       "2023-12-20 -0.001215 -0.002077 -0.013878 -0.018485  -0.014434  0.423907\n",
       "2023-12-21 -0.005465 -0.006105  0.002233  0.009742   0.009742 -0.200858\n",
       "2023-12-22  0.005379  0.005057  0.006081  0.002109   0.002109 -0.331265\n",
       "\n",
       "[1259 rows x 6 columns]"
      ]
     },
     "execution_count": 146,
     "metadata": {},
     "output_type": "execute_result"
    }
   ],
   "source": [
    "price_returns = spy.pct_change()\n",
    "price_returns"
   ]
  },
  {
   "cell_type": "code",
   "execution_count": 147,
   "id": "a0fbc92a-6fbe-41af-a413-1b6ff3ee7acb",
   "metadata": {},
   "outputs": [
    {
     "data": {
      "text/html": [
       "<div>\n",
       "<style scoped>\n",
       "    .dataframe tbody tr th:only-of-type {\n",
       "        vertical-align: middle;\n",
       "    }\n",
       "\n",
       "    .dataframe tbody tr th {\n",
       "        vertical-align: top;\n",
       "    }\n",
       "\n",
       "    .dataframe thead th {\n",
       "        text-align: right;\n",
       "    }\n",
       "</style>\n",
       "<table border=\"1\" class=\"dataframe\">\n",
       "  <thead>\n",
       "    <tr style=\"text-align: right;\">\n",
       "      <th></th>\n",
       "      <th>Open</th>\n",
       "      <th>High</th>\n",
       "      <th>Low</th>\n",
       "      <th>Close</th>\n",
       "      <th>Adj Close</th>\n",
       "      <th>Volume</th>\n",
       "    </tr>\n",
       "    <tr>\n",
       "      <th>Date</th>\n",
       "      <th></th>\n",
       "      <th></th>\n",
       "      <th></th>\n",
       "      <th></th>\n",
       "      <th></th>\n",
       "      <th></th>\n",
       "    </tr>\n",
       "  </thead>\n",
       "  <tbody>\n",
       "    <tr>\n",
       "      <th>2018-12-24</th>\n",
       "      <td>NaN</td>\n",
       "      <td>NaN</td>\n",
       "      <td>NaN</td>\n",
       "      <td>NaN</td>\n",
       "      <td>NaN</td>\n",
       "      <td>NaN</td>\n",
       "    </tr>\n",
       "    <tr>\n",
       "      <th>2018-12-26</th>\n",
       "      <td>NaN</td>\n",
       "      <td>NaN</td>\n",
       "      <td>NaN</td>\n",
       "      <td>NaN</td>\n",
       "      <td>NaN</td>\n",
       "      <td>NaN</td>\n",
       "    </tr>\n",
       "    <tr>\n",
       "      <th>2018-12-27</th>\n",
       "      <td>NaN</td>\n",
       "      <td>NaN</td>\n",
       "      <td>NaN</td>\n",
       "      <td>NaN</td>\n",
       "      <td>NaN</td>\n",
       "      <td>NaN</td>\n",
       "    </tr>\n",
       "    <tr>\n",
       "      <th>2018-12-28</th>\n",
       "      <td>NaN</td>\n",
       "      <td>NaN</td>\n",
       "      <td>NaN</td>\n",
       "      <td>NaN</td>\n",
       "      <td>NaN</td>\n",
       "      <td>NaN</td>\n",
       "    </tr>\n",
       "    <tr>\n",
       "      <th>2018-12-31</th>\n",
       "      <td>NaN</td>\n",
       "      <td>NaN</td>\n",
       "      <td>NaN</td>\n",
       "      <td>NaN</td>\n",
       "      <td>NaN</td>\n",
       "      <td>NaN</td>\n",
       "    </tr>\n",
       "    <tr>\n",
       "      <th>...</th>\n",
       "      <td>...</td>\n",
       "      <td>...</td>\n",
       "      <td>...</td>\n",
       "      <td>...</td>\n",
       "      <td>...</td>\n",
       "      <td>...</td>\n",
       "    </tr>\n",
       "    <tr>\n",
       "      <th>2023-12-18</th>\n",
       "      <td>0.037982</td>\n",
       "      <td>0.039217</td>\n",
       "      <td>0.042170</td>\n",
       "      <td>0.037973</td>\n",
       "      <td>0.037973</td>\n",
       "      <td>0.483158</td>\n",
       "    </tr>\n",
       "    <tr>\n",
       "      <th>2023-12-19</th>\n",
       "      <td>0.040510</td>\n",
       "      <td>0.037026</td>\n",
       "      <td>0.041590</td>\n",
       "      <td>0.038192</td>\n",
       "      <td>0.038192</td>\n",
       "      <td>0.303548</td>\n",
       "    </tr>\n",
       "    <tr>\n",
       "      <th>2023-12-20</th>\n",
       "      <td>0.039724</td>\n",
       "      <td>0.040868</td>\n",
       "      <td>0.029505</td>\n",
       "      <td>0.024732</td>\n",
       "      <td>0.028783</td>\n",
       "      <td>0.559602</td>\n",
       "    </tr>\n",
       "    <tr>\n",
       "      <th>2023-12-21</th>\n",
       "      <td>0.035000</td>\n",
       "      <td>0.033334</td>\n",
       "      <td>0.030541</td>\n",
       "      <td>0.034784</td>\n",
       "      <td>0.038834</td>\n",
       "      <td>0.769829</td>\n",
       "    </tr>\n",
       "    <tr>\n",
       "      <th>2023-12-22</th>\n",
       "      <td>0.032563</td>\n",
       "      <td>0.035537</td>\n",
       "      <td>0.037914</td>\n",
       "      <td>0.041063</td>\n",
       "      <td>0.045114</td>\n",
       "      <td>0.209717</td>\n",
       "    </tr>\n",
       "  </tbody>\n",
       "</table>\n",
       "<p>1259 rows × 6 columns</p>\n",
       "</div>"
      ],
      "text/plain": [
       "                Open      High       Low     Close  Adj Close    Volume\n",
       "Date                                                                   \n",
       "2018-12-24       NaN       NaN       NaN       NaN        NaN       NaN\n",
       "2018-12-26       NaN       NaN       NaN       NaN        NaN       NaN\n",
       "2018-12-27       NaN       NaN       NaN       NaN        NaN       NaN\n",
       "2018-12-28       NaN       NaN       NaN       NaN        NaN       NaN\n",
       "2018-12-31       NaN       NaN       NaN       NaN        NaN       NaN\n",
       "...              ...       ...       ...       ...        ...       ...\n",
       "2023-12-18  0.037982  0.039217  0.042170  0.037973   0.037973  0.483158\n",
       "2023-12-19  0.040510  0.037026  0.041590  0.038192   0.038192  0.303548\n",
       "2023-12-20  0.039724  0.040868  0.029505  0.024732   0.028783  0.559602\n",
       "2023-12-21  0.035000  0.033334  0.030541  0.034784   0.038834  0.769829\n",
       "2023-12-22  0.032563  0.035537  0.037914  0.041063   0.045114  0.209717\n",
       "\n",
       "[1259 rows x 6 columns]"
      ]
     },
     "execution_count": 147,
     "metadata": {},
     "output_type": "execute_result"
    }
   ],
   "source": [
    "window = 12\n",
    "price_momentum = price_returns.rolling(window).sum()\n",
    "price_momentum"
   ]
  },
  {
   "cell_type": "code",
   "execution_count": 148,
   "id": "126bb73b-9912-4df7-bee3-59248f636440",
   "metadata": {},
   "outputs": [
    {
     "data": {
      "text/plain": [
       "Open         0.006998\n",
       "High         0.006662\n",
       "Low          0.006950\n",
       "Close        0.007132\n",
       "Adj Close    0.007925\n",
       "Volume       0.782584\n",
       "dtype: float64"
      ]
     },
     "execution_count": 148,
     "metadata": {},
     "output_type": "execute_result"
    }
   ],
   "source": [
    "mean_factor = price_momentum.mean()\n",
    "std_factor = price_momentum.std()\n",
    "mean_factor"
   ]
  },
  {
   "cell_type": "code",
   "execution_count": 149,
   "id": "8ecf7999-7db3-41c0-972d-0b9b355ea702",
   "metadata": {},
   "outputs": [
    {
     "data": {
      "text/html": [
       "<div>\n",
       "<style scoped>\n",
       "    .dataframe tbody tr th:only-of-type {\n",
       "        vertical-align: middle;\n",
       "    }\n",
       "\n",
       "    .dataframe tbody tr th {\n",
       "        vertical-align: top;\n",
       "    }\n",
       "\n",
       "    .dataframe thead th {\n",
       "        text-align: right;\n",
       "    }\n",
       "</style>\n",
       "<table border=\"1\" class=\"dataframe\">\n",
       "  <thead>\n",
       "    <tr style=\"text-align: right;\">\n",
       "      <th></th>\n",
       "      <th>Open</th>\n",
       "      <th>High</th>\n",
       "      <th>Low</th>\n",
       "      <th>Close</th>\n",
       "      <th>Adj Close</th>\n",
       "      <th>Volume</th>\n",
       "    </tr>\n",
       "    <tr>\n",
       "      <th>Date</th>\n",
       "      <th></th>\n",
       "      <th></th>\n",
       "      <th></th>\n",
       "      <th></th>\n",
       "      <th></th>\n",
       "      <th></th>\n",
       "    </tr>\n",
       "  </thead>\n",
       "  <tbody>\n",
       "    <tr>\n",
       "      <th>2018-12-24</th>\n",
       "      <td>NaN</td>\n",
       "      <td>NaN</td>\n",
       "      <td>NaN</td>\n",
       "      <td>NaN</td>\n",
       "      <td>NaN</td>\n",
       "      <td>NaN</td>\n",
       "    </tr>\n",
       "    <tr>\n",
       "      <th>2018-12-26</th>\n",
       "      <td>NaN</td>\n",
       "      <td>NaN</td>\n",
       "      <td>NaN</td>\n",
       "      <td>NaN</td>\n",
       "      <td>NaN</td>\n",
       "      <td>NaN</td>\n",
       "    </tr>\n",
       "    <tr>\n",
       "      <th>2018-12-27</th>\n",
       "      <td>NaN</td>\n",
       "      <td>NaN</td>\n",
       "      <td>NaN</td>\n",
       "      <td>NaN</td>\n",
       "      <td>NaN</td>\n",
       "      <td>NaN</td>\n",
       "    </tr>\n",
       "    <tr>\n",
       "      <th>2018-12-28</th>\n",
       "      <td>NaN</td>\n",
       "      <td>NaN</td>\n",
       "      <td>NaN</td>\n",
       "      <td>NaN</td>\n",
       "      <td>NaN</td>\n",
       "      <td>NaN</td>\n",
       "    </tr>\n",
       "    <tr>\n",
       "      <th>2018-12-31</th>\n",
       "      <td>NaN</td>\n",
       "      <td>NaN</td>\n",
       "      <td>NaN</td>\n",
       "      <td>NaN</td>\n",
       "      <td>NaN</td>\n",
       "      <td>NaN</td>\n",
       "    </tr>\n",
       "    <tr>\n",
       "      <th>...</th>\n",
       "      <td>...</td>\n",
       "      <td>...</td>\n",
       "      <td>...</td>\n",
       "      <td>...</td>\n",
       "      <td>...</td>\n",
       "      <td>...</td>\n",
       "    </tr>\n",
       "    <tr>\n",
       "      <th>2023-12-18</th>\n",
       "      <td>0.740244</td>\n",
       "      <td>0.827956</td>\n",
       "      <td>0.790172</td>\n",
       "      <td>0.742158</td>\n",
       "      <td>0.726310</td>\n",
       "      <td>-0.378020</td>\n",
       "    </tr>\n",
       "    <tr>\n",
       "      <th>2023-12-19</th>\n",
       "      <td>0.800645</td>\n",
       "      <td>0.772230</td>\n",
       "      <td>0.777153</td>\n",
       "      <td>0.747425</td>\n",
       "      <td>0.731600</td>\n",
       "      <td>-0.604773</td>\n",
       "    </tr>\n",
       "    <tr>\n",
       "      <th>2023-12-20</th>\n",
       "      <td>0.781873</td>\n",
       "      <td>0.869951</td>\n",
       "      <td>0.506038</td>\n",
       "      <td>0.423525</td>\n",
       "      <td>0.504165</td>\n",
       "      <td>-0.281510</td>\n",
       "    </tr>\n",
       "    <tr>\n",
       "      <th>2023-12-21</th>\n",
       "      <td>0.669003</td>\n",
       "      <td>0.678330</td>\n",
       "      <td>0.529268</td>\n",
       "      <td>0.665416</td>\n",
       "      <td>0.747139</td>\n",
       "      <td>-0.016103</td>\n",
       "    </tr>\n",
       "    <tr>\n",
       "      <th>2023-12-22</th>\n",
       "      <td>0.610776</td>\n",
       "      <td>0.734360</td>\n",
       "      <td>0.694675</td>\n",
       "      <td>0.816523</td>\n",
       "      <td>0.898922</td>\n",
       "      <td>-0.723233</td>\n",
       "    </tr>\n",
       "  </tbody>\n",
       "</table>\n",
       "<p>1259 rows × 6 columns</p>\n",
       "</div>"
      ],
      "text/plain": [
       "                Open      High       Low     Close  Adj Close    Volume\n",
       "Date                                                                   \n",
       "2018-12-24       NaN       NaN       NaN       NaN        NaN       NaN\n",
       "2018-12-26       NaN       NaN       NaN       NaN        NaN       NaN\n",
       "2018-12-27       NaN       NaN       NaN       NaN        NaN       NaN\n",
       "2018-12-28       NaN       NaN       NaN       NaN        NaN       NaN\n",
       "2018-12-31       NaN       NaN       NaN       NaN        NaN       NaN\n",
       "...              ...       ...       ...       ...        ...       ...\n",
       "2023-12-18  0.740244  0.827956  0.790172  0.742158   0.726310 -0.378020\n",
       "2023-12-19  0.800645  0.772230  0.777153  0.747425   0.731600 -0.604773\n",
       "2023-12-20  0.781873  0.869951  0.506038  0.423525   0.504165 -0.281510\n",
       "2023-12-21  0.669003  0.678330  0.529268  0.665416   0.747139 -0.016103\n",
       "2023-12-22  0.610776  0.734360  0.694675  0.816523   0.898922 -0.723233\n",
       "\n",
       "[1259 rows x 6 columns]"
      ]
     },
     "execution_count": 149,
     "metadata": {},
     "output_type": "execute_result"
    }
   ],
   "source": [
    "z_score = (price_momentum - mean_factor) / std_factor\n",
    "z_score"
   ]
  },
  {
   "cell_type": "code",
   "execution_count": 150,
   "id": "c95edc15-d2cb-4e90-bf5f-0a1b0607a4fe",
   "metadata": {},
   "outputs": [
    {
     "data": {
      "text/plain": [
       "5.698017127186048e-17"
      ]
     },
     "execution_count": 150,
     "metadata": {},
     "output_type": "execute_result"
    }
   ],
   "source": [
    "z_score['Adj Close'].mean()"
   ]
  },
  {
   "cell_type": "code",
   "execution_count": 151,
   "id": "f17ece25-8deb-4723-946d-327da04a0ad0",
   "metadata": {},
   "outputs": [
    {
     "name": "stdout",
     "output_type": "stream",
     "text": [
      "                Open      High       Low     Close  Adj Close    Volume\n",
      "Date                                                                   \n",
      "2019-01-11  1.657062  1.757258  1.976520  2.309012   2.300175 -1.865868\n",
      "2019-01-14  1.892361  1.081604  1.949325  0.959131   0.944255 -2.276645\n",
      "2019-01-15  1.310636  1.090082  1.573031  1.017232   1.002612 -0.890962\n",
      "2019-01-16  0.906389  0.886452  1.107488  1.101121   1.086881 -0.865114\n",
      "2019-01-17  0.835675  1.195543  0.961990  1.064093   1.049682 -1.050242\n",
      "...              ...       ...       ...       ...        ...       ...\n",
      "2023-12-18  0.740244  0.827956  0.790172  0.742158   0.726310 -0.378020\n",
      "2023-12-19  0.800645  0.772230  0.777153  0.747425   0.731600 -0.604773\n",
      "2023-12-20  0.781873  0.869951  0.506038  0.423525   0.504165 -0.281510\n",
      "2023-12-21  0.669003  0.678330  0.529268  0.665416   0.747139 -0.016103\n",
      "2023-12-22  0.610776  0.734360  0.694675  0.816523   0.898922 -0.723233\n",
      "\n",
      "[748 rows x 6 columns]\n"
     ]
    }
   ],
   "source": [
    "long_basket = z_score[z_score['Adj Close'] >= z_score['Adj Close'].mean()]\n",
    "print(long_basket)"
   ]
  },
  {
   "cell_type": "code",
   "execution_count": 152,
   "id": "96e51cb0-7734-41a2-91e4-4f1116bdb0f5",
   "metadata": {},
   "outputs": [
    {
     "data": {
      "text/plain": [
       "Date\n",
       "2019-01-11    2.300175\n",
       "2019-01-14    0.944255\n",
       "2019-01-15    1.002612\n",
       "2019-01-16    1.086881\n",
       "2019-01-17    1.049682\n",
       "                ...   \n",
       "2023-12-18    0.726310\n",
       "2023-12-19    0.731600\n",
       "2023-12-20    0.504165\n",
       "2023-12-21    0.747139\n",
       "2023-12-22    0.898922\n",
       "Name: Adj Close, Length: 748, dtype: float64"
      ]
     },
     "execution_count": 152,
     "metadata": {},
     "output_type": "execute_result"
    }
   ],
   "source": [
    "long_basket['Adj Close']"
   ]
  },
  {
   "cell_type": "code",
   "execution_count": 153,
   "id": "365c0e5c-dfa2-4015-a331-881a1947a463",
   "metadata": {},
   "outputs": [
    {
     "name": "stdout",
     "output_type": "stream",
     "text": [
      "                Open      High       Low     Close  Adj Close    Volume\n",
      "Date                                                                   \n",
      "2019-03-06  0.078242 -0.005616 -0.083515 -0.177132  -0.197098 -0.454594\n",
      "2019-03-07 -0.132275 -0.314519 -0.347081 -0.412190  -0.433209  1.650139\n",
      "2019-03-08 -0.588694 -0.558087 -0.555766 -0.516316  -0.537799  1.451635\n",
      "2019-03-11 -0.375517 -0.114956 -0.240776 -0.077958  -0.097478  0.794965\n",
      "2019-03-12 -0.080635 -0.098294 -0.068259 -0.136762  -0.156538  0.992614\n",
      "...              ...       ...       ...       ...        ...       ...\n",
      "2023-10-27 -1.366822 -1.476820 -1.425670 -1.619966  -1.646386 -0.088689\n",
      "2023-10-30 -1.477971 -1.394309 -1.160067 -1.185770  -1.210247  0.039719\n",
      "2023-10-31 -1.225151 -1.229523 -0.980257 -0.913391  -0.936648 -0.203879\n",
      "2023-11-01 -0.979847 -0.965842 -0.932905 -0.900347  -0.923547 -0.380031\n",
      "2023-11-02 -0.499147 -0.576389 -0.449086 -0.443701  -0.464858 -0.331867\n",
      "\n",
      "[499 rows x 6 columns]\n"
     ]
    }
   ],
   "source": [
    "short_basket = z_score[z_score['Adj Close'] < z_score['Adj Close'].mean()]\n",
    "print(short_basket)"
   ]
  },
  {
   "cell_type": "code",
   "execution_count": 154,
   "id": "7e1bb6f9-df41-49ba-a1a8-7a4bada86b77",
   "metadata": {},
   "outputs": [
    {
     "data": {
      "text/plain": [
       "Date\n",
       "2019-03-06   -0.197098\n",
       "2019-03-07   -0.433209\n",
       "2019-03-08   -0.537799\n",
       "2019-03-11   -0.097478\n",
       "2019-03-12   -0.156538\n",
       "                ...   \n",
       "2023-10-27   -1.646386\n",
       "2023-10-30   -1.210247\n",
       "2023-10-31   -0.936648\n",
       "2023-11-01   -0.923547\n",
       "2023-11-02   -0.464858\n",
       "Name: Adj Close, Length: 499, dtype: float64"
      ]
     },
     "execution_count": 154,
     "metadata": {},
     "output_type": "execute_result"
    }
   ],
   "source": [
    "short_basket['Adj Close']"
   ]
  },
  {
   "cell_type": "code",
   "execution_count": 155,
   "id": "4f38d4f0-9657-4867-96c3-c579275dc5bf",
   "metadata": {},
   "outputs": [
    {
     "name": "stdout",
     "output_type": "stream",
     "text": [
      "[*********************100%***********************]  1 of 1 completed\n"
     ]
    },
    {
     "data": {
      "text/plain": [
       "<AxesSubplot:xlabel='Date'>"
      ]
     },
     "execution_count": 155,
     "metadata": {},
     "output_type": "execute_result"
    },
    {
     "data": {
      "image/png": "[encoded data removed]",
      "text/plain": [
       "<Figure size 432x288 with 1 Axes>"
      ]
     },
     "metadata": {
      "needs_background": "light"
     },
     "output_type": "display_data"
    }
   ],
   "source": [
    "def my_strategy(data):    \n",
    "    data['ma_50'] = data['Adj Close'].rolling(window=50).mean()\n",
    "    data['position'] = 0\n",
    "    data.loc[data['Adj Close'] > data['ma_50'], 'position'] = 1\n",
    "    data.loc[data['Adj Close'] < data['ma_50'], 'position'] = -1\n",
    "    return data\n",
    "data = yf.download('VOO', period='5y')['Adj Close'].to_frame()\n",
    "data_with_strategy = my_strategy(data.copy())\n",
    "returns = data_with_strategy['Adj Close'].pct_change()\n",
    "strategy_returns = returns * data_with_strategy['position']\n",
    "cumulative_returns = (1 + strategy_returns).cumprod()\n",
    "cumulative_returns.plot()"
   ]
  },
  {
   "cell_type": "code",
   "execution_count": 156,
   "id": "19098a66-d5f0-4ed5-81af-509189b066e0",
   "metadata": {},
   "outputs": [
    {
     "data": {
      "text/plain": [
       "Date\n",
       "2018-12-24    NaN\n",
       "2018-12-26    1.0\n",
       "2018-12-27    1.0\n",
       "2018-12-28    1.0\n",
       "2018-12-31    1.0\n",
       "dtype: float64"
      ]
     },
     "execution_count": 156,
     "metadata": {},
     "output_type": "execute_result"
    }
   ],
   "source": [
    "cumulative_returns.head()"
   ]
  },
  {
   "cell_type": "code",
   "execution_count": 157,
   "id": "63368063-08f9-40fb-87a5-aec576169aef",
   "metadata": {},
   "outputs": [
    {
     "name": "stdout",
     "output_type": "stream",
     "text": [
      "[*********************100%***********************]  1 of 1 completed\n"
     ]
    },
    {
     "data": {
      "text/plain": [
       "<AxesSubplot:xlabel='Date'>"
      ]
     },
     "execution_count": 157,
     "metadata": {},
     "output_type": "execute_result"
    },
    {
     "data": {
      "image/png": "[encoded data removed]",
      "text/plain": [
       "<Figure size 432x288 with 1 Axes>"
      ]
     },
     "metadata": {
      "needs_background": "light"
     },
     "output_type": "display_data"
    }
   ],
   "source": [
    "def my_strategy(data):\n",
    "    data['position'] = 1\n",
    "    return data\n",
    "data = yf.download('VOO', period='5y')['Adj Close'].to_frame()\n",
    "data_with_strategy = my_strategy(data.copy())\n",
    "returns = data_with_strategy['Adj Close'].pct_change()\n",
    "strategy_returns = returns * data_with_strategy['position']\n",
    "cumulative_returns = (1 + strategy_returns).cumprod()\n",
    "cumulative_returns.plot()"
   ]
  },
  {
   "cell_type": "code",
   "execution_count": 159,
   "id": "ee12484e-1f67-431d-91fd-81a6bda2ee34",
   "metadata": {},
   "outputs": [
    {
     "name": "stdout",
     "output_type": "stream",
     "text": [
      "[*********************100%***********************]  1 of 1 completed\n"
     ]
    },
    {
     "data": {
      "text/plain": [
       "<AxesSubplot:xlabel='Date'>"
      ]
     },
     "execution_count": 159,
     "metadata": {},
     "output_type": "execute_result"
    },
    {
     "data": {
      "image/png": "[encoded data removed]",
      "text/plain": [
       "<Figure size 432x288 with 1 Axes>"
      ]
     },
     "metadata": {
      "needs_background": "light"
     },
     "output_type": "display_data"
    }
   ],
   "source": [
    "def my_strategy(data):\n",
    "    data['position'] = -1 \n",
    "    return data\n",
    "data = yf.download('VOO', period='5y')['Adj Close'].to_frame()\n",
    "data_with_strategy = my_strategy(data.copy())\n",
    "returns = data_with_strategy['Adj Close'].pct_change()\n",
    "strategy_returns = returns * data_with_strategy['position']\n",
    "\n",
    "cumulative_returns = (1 + strategy_returns).cumprod()\n",
    "cumulative_returns.plot()"
   ]
  },
  {
   "cell_type": "code",
   "execution_count": null,
   "id": "431b881a-e753-4398-a12a-7be41a3775bf",
   "metadata": {},
   "outputs": [],
   "source": []
  },
  {
   "cell_type": "code",
   "execution_count": 164,
   "id": "64d49f89-4486-44a8-b768-c56e75f1c728",
   "metadata": {},
   "outputs": [
    {
     "name": "stdout",
     "output_type": "stream",
     "text": [
      "[*********************100%***********************]  1 of 1 completed\n",
      "[*********************100%***********************]  1 of 1 completed\n",
      "[*********************100%***********************]  1 of 1 completed\n"
     ]
    },
    {
     "data": {
      "image/png": "[encoded data removed]",
      "text/plain": [
       "<Figure size 720x432 with 1 Axes>"
      ]
     },
     "metadata": {
      "needs_background": "light"
     },
     "output_type": "display_data"
    }
   ],
   "source": [
    "def my_strategy(data):\n",
    "    data['ma_50'] = data['Adj Close'].rolling(window=50).mean()\n",
    "    data['position'] = 0\n",
    "    data.loc[data['Adj Close'] > data['ma_50'], 'position'] = 1\n",
    "    data.loc[data['Adj Close'] < data['ma_50'], 'position'] = -1\n",
    "    return data\n",
    "etf_data = yf.download('VOO', period='5y')['Adj Close'].to_frame()\n",
    "long_picks_data = yf.download('AAPL', period='5y')['Adj Close'].to_frame()\n",
    "short_picks_data = yf.download('MS', period='5y')['Adj Close'].to_frame()\n",
    "etf_data_with_strategy = my_strategy(etf_data.copy())\n",
    "long_picks_data_with_strategy = my_strategy(long_picks_data.copy())\n",
    "short_picks_data_with_strategy = my_strategy(short_picks_data.copy())\n",
    "etf_monthly_returns = etf_data_with_strategy['Adj Close'].resample('M').ffill().pct_change()\n",
    "long_picks_monthly_returns = long_picks_data_with_strategy['Adj Close'].resample('M').ffill().pct_change()\n",
    "short_picks_monthly_returns = short_picks_data_with_strategy['Adj Close'].resample('M').ffill().pct_change()\n",
    "fig, ax = plt.subplots(figsize=(10, 6))\n",
    "etf_monthly_returns.plot(kind='bar', ax=ax, color='green', alpha=0.7)\n",
    "long_picks_monthly_returns.plot(kind='bar', ax=ax, color='red', alpha=0.7)\n",
    "short_picks_monthly_returns.plot(kind='bar', ax=ax, color='orange', alpha=0.7)\n",
    "ax.set_xlabel('Date')\n",
    "ax.set_ylabel('Monthly Return')\n",
    "ax.set_title('ETF vs Long Pick vs Short Pick')\n",
    "ax.legend(['ETF', 'Long Pick', 'Short Pick'])\n",
    "plt.tight_layout()\n",
    "plt.show()"
   ]
  },
  {
   "cell_type": "code",
   "execution_count": 165,
   "id": "98891c33-e3c5-4222-be76-e8e53871aa4f",
   "metadata": {},
   "outputs": [
    {
     "name": "stdout",
     "output_type": "stream",
     "text": [
      "[*********************100%***********************]  7 of 7 completed\n",
      "[*********************100%***********************]  1 of 1 completed\n"
     ]
    }
   ],
   "source": [
    "portfolio_data = yf.download(['AAPL','MS', 'JPM','MSFT','TSLA','TSTRX','AMZN'], period='5y')['Adj Close'] \n",
    "etf_data = yf.download('SPY', period='5y')['Adj Close']\n",
    "\n",
    "portfolio_cumulative_returns = (portfolio_data.pct_change() + 1).cumprod() - 1\n",
    "etf_cumulative_returns = (etf_data.pct_change() + 1).cumprod() - 1"
   ]
  },
  {
   "cell_type": "code",
   "execution_count": 144,
   "id": "dc282c75-a468-437c-9d7f-9f3582363135",
   "metadata": {},
   "outputs": [
    {
     "data": {
      "image/png": "[encoded data removed]",
      "text/plain": [
       "<Figure size 720x432 with 1 Axes>"
      ]
     },
     "metadata": {
      "needs_background": "light"
     },
     "output_type": "display_data"
    }
   ],
   "source": [
    "fig, ax = plt.subplots(figsize=(10, 6))\n",
    "ax.plot(portfolio_cumulative_returns.index, portfolio_cumulative_returns, label= portfolio_data[0:7])\n",
    "ax.plot(etf_cumulative_returns.index, etf_cumulative_returns, label='SPY')\n",
    "ax.set_xlabel('Date')\n",
    "ax.set_ylabel('Cumulative Return')\n",
    "ax.set_title('Cumulative Portfolio Return vs ETF')\n",
    "ax.legend()\n",
    "plt.tight_layout()"
   ]
  },
  {
   "cell_type": "code",
   "execution_count": null,
   "id": "750dd908-b8eb-4357-8414-3a03d950de46",
   "metadata": {},
   "outputs": [],
   "source": []
  },
  {
   "cell_type": "code",
   "execution_count": null,
   "id": "b600e60b-3f81-442c-a30a-4dd4ba211b4e",
   "metadata": {},
   "outputs": [],
   "source": []
  },
  {
   "cell_type": "code",
   "execution_count": null,
   "id": "3f1e1c61-b982-47cd-80cb-a2fd6447398c",
   "metadata": {},
   "outputs": [],
   "source": []
  },
  {
   "cell_type": "code",
   "execution_count": null,
   "id": "a0f59bc3-9f0d-4fb1-be96-c7e4929430f4",
   "metadata": {},
   "outputs": [],
   "source": []
  }
 ],
 "metadata": {
  "kernelspec": {
   "display_name": "Python 3 (ipykernel)",
   "language": "python",
   "name": "python3"
  },
  "language_info": {
   "codemirror_mode": {
    "name": "ipython",
    "version": 3
   },
   "file_extension": ".py",
   "mimetype": "text/x-python",
   "name": "python",
   "nbconvert_exporter": "python",
   "pygments_lexer": "ipython3",
   "version": "3.9.7"
  }
 },
 "nbformat": 4,
 "nbformat_minor": 5
}
